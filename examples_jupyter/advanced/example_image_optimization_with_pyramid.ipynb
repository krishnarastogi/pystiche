{
  "cells": [
    {
      "cell_type": "code",
      "execution_count": null,
      "metadata": {
        "collapsed": false
      },
      "outputs": [],
      "source": [
        "%matplotlib inline"
      ]
    },
    {
      "cell_type": "markdown",
      "metadata": {},
      "source": [
        "\n# Image optimization with pyramid\n\nThis example showcases how an\n`image pyramid <https://en.wikipedia.org/wiki/Pyramid_(image_processing)>`_ is\nintegrated in an NST with ``pystiche``.\n\nWith an image pyramid the optimization is not performed on a single but rather on\nmultiple increasing resolutions. This procedure is often dubbed *coarse-to-fine*, since\non the lower resolutions coarse structures are synthesized whereas on the higher levels\nthe details are carved out.\n\nThis technique has the potential to reduce the convergence time as well as to enhance\nthe overall result :cite:`LW2016,GEB+2017`.\n\n"
      ]
    },
    {
      "cell_type": "markdown",
      "metadata": {},
      "source": [
        "We start this example by importing everything we need and setting the device we will\nbe working on.\n\n"
      ]
    },
    {
      "cell_type": "code",
      "execution_count": null,
      "metadata": {
        "collapsed": false
      },
      "outputs": [],
      "source": [
        "import time\n\nimport pystiche\nfrom pystiche import demo, enc, loss, ops, optim, pyramid\nfrom pystiche.image import show_image\nfrom pystiche.misc import get_device, get_input_image\n\nprint(f\"I'm working with pystiche=={pystiche.__version__}\")\n\ndevice = get_device()\nprint(f\"I'm working with {device}\")"
      ]
    },
    {
      "cell_type": "markdown",
      "metadata": {},
      "source": [
        "At first we define a :class:`~pystiche.loss.PerceptualLoss` that is used as\noptimization ``criterion``.\n\n"
      ]
    },
    {
      "cell_type": "code",
      "execution_count": null,
      "metadata": {
        "collapsed": false
      },
      "outputs": [],
      "source": [
        "multi_layer_encoder = enc.vgg19_multi_layer_encoder()\n\n\ncontent_layer = \"relu4_2\"\ncontent_encoder = multi_layer_encoder.extract_encoder(content_layer)\ncontent_weight = 1e0\ncontent_loss = ops.FeatureReconstructionOperator(\n    content_encoder, score_weight=content_weight\n)\n\n\nstyle_layers = (\"relu3_1\", \"relu4_1\")\nstyle_weight = 2e0\n\n\ndef get_style_op(encoder, layer_weight):\n    return ops.MRFOperator(encoder, patch_size=3, stride=2, score_weight=layer_weight)\n\n\nstyle_loss = ops.MultiLayerEncodingOperator(\n    multi_layer_encoder, style_layers, get_style_op, score_weight=style_weight,\n)\n\ncriterion = loss.PerceptualLoss(content_loss, style_loss).to(device)\nprint(criterion)"
      ]
    },
    {
      "cell_type": "markdown",
      "metadata": {},
      "source": [
        "Next up, we load and show the images that will be used in the NST.\n\n"
      ]
    },
    {
      "cell_type": "code",
      "execution_count": null,
      "metadata": {
        "collapsed": false
      },
      "outputs": [],
      "source": [
        "images = demo.images()\nimages.download()\nsize = 500"
      ]
    },
    {
      "cell_type": "code",
      "execution_count": null,
      "metadata": {
        "collapsed": false
      },
      "outputs": [],
      "source": [
        "content_image = images[\"bird2\"].read(size=size, device=device)\nshow_image(content_image, title=\"Content image\")\ncriterion.set_content_image(content_image)"
      ]
    },
    {
      "cell_type": "code",
      "execution_count": null,
      "metadata": {
        "collapsed": false
      },
      "outputs": [],
      "source": [
        "style_image = images[\"mosaic\"].read(size=size, device=device)\nshow_image(style_image, title=\"Style image\")\ncriterion.set_style_image(style_image)"
      ]
    },
    {
      "cell_type": "markdown",
      "metadata": {},
      "source": [
        "## Image optimization without pyramid\n\nAs a baseline we use a standard image optimization without pyramid.\n\n"
      ]
    },
    {
      "cell_type": "code",
      "execution_count": null,
      "metadata": {
        "collapsed": false
      },
      "outputs": [],
      "source": [
        "starting_point = \"content\"\ninput_image = get_input_image(starting_point, content_image=content_image)\nshow_image(input_image, title=\"Input image\")"
      ]
    },
    {
      "cell_type": "markdown",
      "metadata": {},
      "source": [
        "We time the NST performed by :func:`~pystiche.optim.image_optimization` and show the\nresult.\n\n"
      ]
    },
    {
      "cell_type": "code",
      "execution_count": null,
      "metadata": {
        "collapsed": false
      },
      "outputs": [],
      "source": [
        "start_without_pyramid = time.time()\noutput_image = optim.image_optimization(\n    input_image, criterion, num_steps=400, logger=demo.logger()\n)\nstop_without_pyramid = time.time()\n\nshow_image(output_image, title=\"Output image without pyramid\")"
      ]
    },
    {
      "cell_type": "code",
      "execution_count": null,
      "metadata": {
        "collapsed": false
      },
      "outputs": [],
      "source": [
        "elapsed_time_without_pyramid = stop_without_pyramid - start_without_pyramid\nprint(\n    f\"Without pyramid the optimization took {elapsed_time_without_pyramid:.0f} seconds.\"\n)"
      ]
    },
    {
      "cell_type": "markdown",
      "metadata": {},
      "source": [
        "As you can see the small blurry branches on the left side of the image were picked up\nby the style transfer. They distort the mosaic pattern, which minders the quality of\nthe result. In the next section we tackle this by focusing on coarse elements first\nand add the details afterwards.\n\n"
      ]
    },
    {
      "cell_type": "markdown",
      "metadata": {},
      "source": [
        "## Image optimization with pyramid\n\nOpposed to the prior examples we now want to perform an NST on multiple resolutions.\nIn ``pystiche`` this handled by an :class:`~pystiche.pyramid.ImagePyramid` . The\nresolutions are selected by specifying the ``edge_sizes`` of the images on each level\n. The optimization is performed for ``num_steps`` on the different levels.\n\nThe resizing of all images, i.e. ``input_image`` and target images (``content_image``\nand ``style_image``) is handled by the ``pyramid``. For that we need to register the\nperceptual loss (``criterion``) as one of the ``resize_targets``.\n\n<div class=\"alert alert-info\"><h4>Note</h4><p>By default the ``edge_sizes`` correspond to the shorter ``edge`` of the images. To\n  change that you can pass ``edge=\"long\"``. For fine-grained control you can also\n  pass a sequence comprising ``\"short\"`` and ``\"long\"`` to select the ``edge`` for\n  each level separately. Its length has to match the length of ``edge_sizes``.</p></div>\n\n<div class=\"alert alert-info\"><h4>Note</h4><p>For a fine-grained control over the number of steps on each level you can pass a\n  sequence to select the ``num_steps`` for each level separately. Its length has to\n  match the length of ``edge_sizes``.</p></div>\n\n"
      ]
    },
    {
      "cell_type": "code",
      "execution_count": null,
      "metadata": {
        "collapsed": false
      },
      "outputs": [],
      "source": [
        "edge_sizes = (250, 500)\nnum_steps = 200\nimage_pyramid = pyramid.ImagePyramid(edge_sizes, num_steps, resize_targets=(criterion,))\nprint(image_pyramid)"
      ]
    },
    {
      "cell_type": "markdown",
      "metadata": {},
      "source": [
        "With a pyramid the NST is performed by\n:func:`~pystiche.optim.pyramid_image_optimization`. We time the execution and show\nthe result afterwards.\n\n<div class=\"alert alert-info\"><h4>Note</h4><p>We regenerate the ``input_image`` since it was changed inplace during the first\n  optimization.</p></div>\n\n"
      ]
    },
    {
      "cell_type": "code",
      "execution_count": null,
      "metadata": {
        "collapsed": false
      },
      "outputs": [],
      "source": [
        "input_image = get_input_image(starting_point, content_image=content_image)\n\nstart_with_pyramid = time.time()\noutput_image = optim.pyramid_image_optimization(\n    input_image, criterion, image_pyramid, logger=demo.logger()\n)\nstop_with_pyramid = time.time()\n\nshow_image(output_image, title=\"Output image with pyramid\")"
      ]
    },
    {
      "cell_type": "code",
      "execution_count": null,
      "metadata": {
        "collapsed": false
      },
      "outputs": [],
      "source": [
        "elapsed_time_with_pyramid = stop_with_pyramid - start_with_pyramid\nrelative_decrease = 1.0 - elapsed_time_with_pyramid / elapsed_time_without_pyramid\nprint(\n    f\"With pyramid the optimization took {elapsed_time_with_pyramid:.0f} seconds. \"\n    f\"This is a {relative_decrease:.0%} decrease.\"\n)"
      ]
    },
    {
      "cell_type": "markdown",
      "metadata": {},
      "source": [
        "With the coarse-to-fine architecture of the image pyramid, the stylization of the\nblurry background branches is reduced leaving the mosaic pattern mostly intact. On\ntop of this quality improvement the execution time is significantly lower while\nperforming the same number of steps.\n\n"
      ]
    }
  ],
  "metadata": {
    "kernelspec": {
      "display_name": "Python 3",
      "language": "python",
      "name": "python3"
    },
    "language_info": {
      "codemirror_mode": {
        "name": "ipython",
        "version": 3
      },
      "file_extension": ".py",
      "mimetype": "text/x-python",
      "name": "python",
      "nbconvert_exporter": "python",
      "pygments_lexer": "ipython3",
      "version": "3.6.9"
    }
  },
  "nbformat": 4,
  "nbformat_minor": 0
}